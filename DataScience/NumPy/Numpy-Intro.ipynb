{
 "cells": [
  {
   "cell_type": "code",
   "execution_count": 1,
   "id": "1e1e2a80-975d-4890-b4cf-606583a4f515",
   "metadata": {},
   "outputs": [
    {
     "name": "stdout",
     "output_type": "stream",
     "text": [
      "Mithilesh\n"
     ]
    }
   ],
   "source": [
    "print(\"Mithilesh\")"
   ]
  },
  {
   "cell_type": "code",
   "execution_count": 3,
   "id": "6902f91f-3120-46a5-aa9d-a333da2ce869",
   "metadata": {},
   "outputs": [
    {
     "name": "stdout",
     "output_type": "stream",
     "text": [
      "6\n"
     ]
    }
   ],
   "source": [
    "a=2\n",
    "b=4\n",
    "print(a+b)"
   ]
  },
  {
   "cell_type": "code",
   "execution_count": 23,
   "id": "82863ad4-4745-40c5-87fe-37f3e565239a",
   "metadata": {},
   "outputs": [
    {
     "name": "stdout",
     "output_type": "stream",
     "text": [
      "      application_id  gender  international   gpa       major      race  \\\n",
      "0                  1  Female          False  3.30    Business     Asian   \n",
      "1                  2    Male          False  3.28  Humanities     Black   \n",
      "2                  3  Female           True  3.30    Business       NaN   \n",
      "3                  4    Male          False  3.47        STEM     Black   \n",
      "4                  5    Male          False  3.35        STEM  Hispanic   \n",
      "...              ...     ...            ...   ...         ...       ...   \n",
      "6189            6190    Male          False  3.49    Business     White   \n",
      "6190            6191    Male          False  3.18        STEM     Black   \n",
      "6191            6192  Female           True  3.22    Business       NaN   \n",
      "6192            6193    Male           True  3.36    Business       NaN   \n",
      "6193            6194    Male          False  3.23        STEM  Hispanic   \n",
      "\n",
      "       gmat  work_exp          work_industry admission  \n",
      "0     620.0       3.0     Financial Services     Admit  \n",
      "1     680.0       5.0  Investment Management       NaN  \n",
      "2     710.0       5.0             Technology     Admit  \n",
      "3     690.0       6.0             Technology       NaN  \n",
      "4     590.0       5.0             Consulting       NaN  \n",
      "...     ...       ...                    ...       ...  \n",
      "6189  640.0       5.0                  Other       NaN  \n",
      "6190  670.0       4.0             Consulting       NaN  \n",
      "6191  680.0       5.0            Health Care     Admit  \n",
      "6192  590.0       5.0                  Other       NaN  \n",
      "6193  650.0       4.0             Consulting       NaN  \n",
      "\n",
      "[6194 rows x 10 columns]\n"
     ]
    }
   ],
   "source": [
    "import pandas as pd\n",
    "import numpy as np\n",
    "\n",
    "student_data = pd.read_csv(\"C:\\\\Users\\\\USER\\\\Documents\\\\Anaconda-Python\\\\DataScience\\\\NumPy\\\\MBA.csv\")\n",
    "\n",
    "print(student_data)"
   ]
  },
  {
   "cell_type": "code",
   "execution_count": 29,
   "id": "f825b167-69f7-4a92-83ce-882133471bf8",
   "metadata": {},
   "outputs": [
    {
     "name": "stdout",
     "output_type": "stream",
     "text": [
      "Calling the method\n",
      "Hello Mithilesh\n",
      "Hello Mithilesh\n",
      "Hello Mithilesh\n",
      "Hello Mithilesh\n"
     ]
    }
   ],
   "source": [
    "\n",
    "def Hello():\n",
    "    print(\"Calling the method\")\n",
    "\n",
    "Hello();\n",
    "\n",
    "for i in range(0, 4):\n",
    "    print(\"Hello Mithilesh\")\n"
   ]
  },
  {
   "cell_type": "code",
   "execution_count": null,
   "id": "0e605459-44dc-4bc2-926f-f7991334b74f",
   "metadata": {},
   "outputs": [],
   "source": []
  }
 ],
 "metadata": {
  "kernelspec": {
   "display_name": "Python 3 (ipykernel)",
   "language": "python",
   "name": "python3"
  },
  "language_info": {
   "codemirror_mode": {
    "name": "ipython",
    "version": 3
   },
   "file_extension": ".py",
   "mimetype": "text/x-python",
   "name": "python",
   "nbconvert_exporter": "python",
   "pygments_lexer": "ipython3",
   "version": "3.12.4"
  }
 },
 "nbformat": 4,
 "nbformat_minor": 5
}
